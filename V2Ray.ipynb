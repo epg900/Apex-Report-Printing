{
  "cells": [
    {
      "cell_type": "markdown",
      "metadata": {
        "id": "view-in-github",
        "colab_type": "text"
      },
      "source": [
        "<a href=\"https://colab.research.google.com/github/epg900/Apex-Report-Printing/blob/master/V2Ray.ipynb\" target=\"_parent\"><img src=\"https://colab.research.google.com/assets/colab-badge.svg\" alt=\"Open In Colab\"/></a>"
      ]
    },
    {
      "cell_type": "code",
      "execution_count": null,
      "metadata": {
        "id": "TQehMQceRICp",
        "cellView": "form"
      },
      "outputs": [],
      "source": [
        "# @title V2Ray Server\n",
        "import json, base64, uuid, os, re, time\n",
        "from IPython.display import HTML, clear_output\n",
        "from threading import Timer\n",
        "from subprocess import Popen , PIPE\n",
        "\n",
        "!pip install pyqrcode\n",
        "clear_output()\n",
        "import pyqrcode\n",
        "\n",
        "if os.path.isdir('server'):\n",
        "  os.system('rm -r server')\n",
        "os.system('mkdir server')\n",
        "\n",
        "%cd server\n",
        "\n",
        "!wget https://github.com/cloudflare/cloudflared/releases/latest/download/cloudflared-linux-amd64.deb\n",
        "clear_output()\n",
        "!wget https://github.com/v2fly/v2ray-core/releases/download/v4.45.2/v2ray-linux-64.zip\n",
        "clear_output()\n",
        "!dpkg -i cloudflared-linux-amd64.deb\n",
        "clear_output()\n",
        "!unzip v2ray-linux-64.zip\n",
        "clear_output()\n",
        "\n",
        "os.remove(\"config.json\")\n",
        "idx=str(uuid.uuid4())\n",
        "!chmod +x v2ray\n",
        "\n",
        "config='{\"log\":{\"access\":\"\",\"error\":\"\",\"loglevel\":\"warning\"},\"inbound\":{\"protocol\":\"vmess\",\"port\":%s,\"settings\":{\"clients\":[{\"id\":\"%s\",\"alterId\":64}]},\"streamSettings\":{\"network\":\"ws\"}},\"inboundDetour\":[],\"outbound\":{\"protocol\":\"freedom\",\"settings\":{}}}' % (str(9910),idx)\n",
        "with open(\"config.json\", \"w\") as f:\n",
        "  f.write(config)\n",
        "\n",
        "clear_output()\n",
        "\n",
        "!pkill v2ray\n",
        "!pkill cloudflared\n",
        "!pkill ngrok\n",
        "\n",
        "!curl -s https://ngrok-agent.s3.amazonaws.com/ngrok.asc | sudo tee /etc/apt/trusted.gpg.d/ngrok.asc >/dev/null && echo \"deb https://ngrok-agent.s3.amazonaws.com buster main\" | sudo tee /etc/apt/sources.list.d/ngrok.list && sudo apt update && sudo apt install ngrok\n",
        "\n",
        "Popen(\"./v2ray run\".split(), cwd='./', env={'V2RAY_VMESS_AEAD_FORCED':'false'})\n",
        "#Popen(\"cloudflared tunnel --url 127.0.0.1:9910 --logfile cloudflared.log\".split(), stdout=PIPE, stdin=PIPE, stderr=PIPE, universal_newlines=True)\n",
        "#time.sleep(5)\n",
        "#ff=open(\"cloudflared.log\", \"r\")\n",
        "#txt=ff.read()\n",
        "#ff.close()\n",
        "#addr=re.findall(\"https://(.*?.trycloudflare.com)\",txt)\n",
        "!mkdir '/root/.config/ngrok'\n",
        "with open('/root/.config/ngrok/ngrok.yml','w') as f:\n",
        " f.write('''authtoken: 1nrjUau4uq4HtqUJIcbGCUmvRVT_3dLq4GMbE3BPtwHh11pnS\n",
        "region: us\n",
        "update: false\n",
        "update_channel: stable\n",
        "web_addr: localhost:8098\n",
        "tunnels:\n",
        "   v2ray:\n",
        "     addr: 9910\n",
        "     proto: http\n",
        "     inspect: false\n",
        "''')\n",
        "\n",
        "\n",
        "!ngrok config upgrade\n",
        "!ngrok config check\n",
        "\n",
        "#from google.colab.output import eval_js\n",
        "#url=eval_js(\"google.colab.kernel.proxyPort(9910)\")\n",
        "\n",
        "#!pip install pyngrok\n",
        "#from pyngrok import ngrok, conf\n",
        "\n",
        "#conf.get_default().auth_token = '1nrjUau4uq4HtqUJIcbGCUmvRVT_3dLq4GMbE3BPtwHh11pnS'\n",
        "#conf.get_default().web_addr = 'localhost:8097'\n",
        "#conf.get_default().config_path = \"/root/222.yml\"\n",
        "#url = ngrok.connect(\"9910\").public_url\n",
        "#addr=re.findall(\"https://(.*?.ngrok-free.app)\",url)\n",
        "\n",
        "Popen(\"ngrok http 9910\".split(), stdout=PIPE, stdin=PIPE, stderr=PIPE, shell=True)\n",
        "url=\"aaa\"\n",
        "\n",
        "\n",
        "d=json.loads('{\"add\":\"{0}\",\"aid\":\"64\",\"host\":\"\",\"id\":\"{1}\",\"net\":\"ws\",\"path\":\"\",\"port\":\"80\",\"ps\":\"1\",\"tls\":\"\",\"type\":\"none\",\"v\":\"2\"}')\n",
        "d[\"add\"] = url\n",
        "d[\"id\"] = idx\n",
        "\n",
        "#clear_output()\n",
        "\n",
        "print(json.dumps(d))\n",
        "!curl localhost:8097/api/tunnels\n",
        "\n",
        "config=\"vmess://\"+base64.b64encode(json.dumps(d).encode()).decode(\"utf-8\")\n",
        "#print(config)\n",
        "url = pyqrcode.create(config)\n",
        "url.svg('qrcode.svg', scale=8)\n",
        "imgfile=base64.b64encode(open(\"qrcode.svg\",\"rb\").read()).decode('ascii')\n",
        "\n",
        "display(HTML(\"<center><img width='270px' height='270px'  src='data:image/svg+xml;base64,{}' /></center>\".format(imgfile)))\n",
        "html_text = '''<center><input type=\"hidden\" value=\"{}\" id=\"clipborad-text\">\n",
        "                <button onclick=\"copyToClipboard()\">Copy Config</button>\n",
        "                <script>\n",
        "                function copyToClipboard() {{\n",
        "                    var copyText = document.getElementById(\"clipborad-text\");\n",
        "                    copyText.select();\n",
        "                    navigator.clipboard.writeText(copyText.value);\n",
        "                    alert(\"Copied the text: \" + copyText.value);\n",
        "                }}\n",
        "                </script></center>'''.format(config)\n",
        "display(HTML(html_text))\n",
        "#time.sleep(7200)\n",
        "#while True: pass"
      ]
    },
    {
      "cell_type": "code",
      "execution_count": null,
      "metadata": {
        "id": "hl2SHfBKpYG-",
        "colab": {
          "base_uri": "https://localhost:8080/",
          "height": 313
        },
        "outputId": "9cf3d9b9-7d5b-4b7e-80a6-f5fd7943453a"
      },
      "outputs": [
        {
          "output_type": "display_data",
          "data": {
            "text/plain": [
              "<IPython.core.display.HTML object>"
            ],
            "text/html": [
              "<center><img width='270px' height='270px'  src='data:image/png;base64,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' /></center>"
            ]
          },
          "metadata": {}
        },
        {
          "output_type": "display_data",
          "data": {
            "text/plain": [
              "<IPython.core.display.HTML object>"
            ],
            "text/html": [
              "<center><input type=\"hidden\" value=\"vmess://eyJhZGQiOiAiYWFhIiwgImFpZCI6ICI2NCIsICJob3N0IjogIiIsICJpZCI6ICIxMTQxYjcwOC02YTY4LTQ2ZjktYjRiNS04YjNhNGFiOGI3ZjciLCAibmV0IjogIndzIiwgInBhdGgiOiAiIiwgInBvcnQiOiAiODAiLCAicHMiOiAiMSIsICJ0bHMiOiAiIiwgInR5cGUiOiAibm9uZSIsICJ2IjogIjIifQ==\" id=\"clipborad-text\">\n",
              "                <button onclick=\"copyToClipboard()\">Copy Config</button>\n",
              "                <script>\n",
              "                function copyToClipboard() {\n",
              "                    var copyText = document.getElementById(\"clipborad-text\");\n",
              "                    copyText.select();\n",
              "                    navigator.clipboard.writeText(copyText.value);\n",
              "                    alert(\"Copied the text: \" + copyText.value);\n",
              "                }\n",
              "                </script></center>"
            ]
          },
          "metadata": {}
        }
      ],
      "source": [
        "# @title V2Ray Server ngrok\n",
        "\n",
        "\n",
        "USE_FREE_TOKEN = False\n",
        "TOKEN = \"1nrjUau4uq4HtqUJIcbGCUmvRVT_3dLq4GMbE3BPtwHh11pnS\"\n",
        "REGION = \"US\"\n",
        "ID=\"\"\n",
        "DEFAULT_SET = True\n",
        "PORT_FORWARD = \"ngrok\"\n",
        "RUN_WITH_LATEST = False\n",
        "\n",
        "import json\n",
        "import base64\n",
        "import uuid\n",
        "import os, subprocess\n",
        "import urllib.request\n",
        "import re\n",
        "from IPython.display import HTML, clear_output\n",
        "from subprocess import Popen, PIPE, run\n",
        "import pandas as pd\n",
        "import requests\n",
        "\n",
        "HOME = os.path.expanduser(\"~\")\n",
        "if not os.path.exists(f\"{HOME}/.ipython/ocr.py\"):\n",
        "    hCode = \"https://raw.githubusercontent.com/biplobsd/\" \\\n",
        "                \"OneClickRun/master/res/ocr.py\"\n",
        "    urllib.request.urlretrieve(hCode, f\"{HOME}/.ipython/ocr.py\")\n",
        "\n",
        "from ocr import PortForward_wrapper, findPackageR, textAn, findProcess\n",
        "\n",
        "def show_qr(text, v=True):\n",
        "  try:\n",
        "    from MyQR import myqr\n",
        "  except:\n",
        "    Popen(\"pip install myqr\".split()).wait()\n",
        "  Popen([\"myqr\",text]+\"--version 5 --level H -n qrcode.png -d /tmp\".split()).wait()\n",
        "  if v:\n",
        "    from PIL import Image\n",
        "    im = Image.open(\"/tmp/qrcode.png\")\n",
        "    os.remove(\"/tmp/qrcode.png\")\n",
        "    im.show()\n",
        "    import matplotlib.pyplot as plt\n",
        "    plt.figure(figsize=(5,5))\n",
        "    plt.imshow(im)\n",
        "    plt.axis('off')\n",
        "    plt.show()\n",
        "  else:\n",
        "    with open(\"/tmp/qrcode.png\", \"rb\") as imageFile:\n",
        "      imgb64 = base64.b64encode(imageFile.read())\n",
        "    os.remove(\"/tmp/qrcode.png\")\n",
        "    return imgb64\n",
        "\n",
        "def v2ray(id=None, port=9999):\n",
        "  if RUN_WITH_LATEST:\n",
        "    found = findPackageR('v2fly/v2ray-core', 'v2ray-linux-64.zip', all_=True)\n",
        "    downUrl = found['assets']['browser_download_url']\n",
        "    tagName = found['tag_name']\n",
        "  else:\n",
        "    downUrl = 'https://github.com/v2fly/v2ray-core/releases/download/v4.45.2/v2ray-linux-64.zip'\n",
        "    tagName = 'v4.45.2'\n",
        "\n",
        "  print(f\"Installing v2ray {tagName} ...\")\n",
        "  if not os.path.exists(\"tools/v2raybin\"):\n",
        "    os.system(f'mkdir -p -m 777 tools/v2raybin && cd tools/v2raybin  && curl -L -H \"Cache-Control: no-cache\" -o v2ray.zip {downUrl} && unzip v2ray.zip  && chmod +x v2ray  && rm -rf v2ray.zip  && chgrp -R 0 ../  && chmod -R g+rwX ../')\n",
        "  CONFIG_JSON1=\"{\\\"log\\\":{\\\"access\\\":\\\"\\\",\\\"error\\\":\\\"\\\",\\\"loglevel\\\":\\\"warning\\\"},\\\"inbound\\\":{\\\"protocol\\\":\\\"vmess\\\",\\\"port\\\":\"\n",
        "  CONFIG_JSON2=\",\\\"settings\\\":{\\\"clients\\\":[{\\\"id\\\":\\\"\"\n",
        "  CONFIG_JSON3=\"\\\",\\\"alterId\\\":64}]},\\\"streamSettings\\\":{\\\"network\\\":\\\"ws\\\"}},\\\"inboundDetour\\\":[],\\\"outbound\\\":{\\\"protocol\\\":\\\"freedom\\\",\\\"settings\\\":{}}}\"\n",
        "  with open(\"tools/v2raybin/config.json\", \"w\") as f:\n",
        "    f.write(CONFIG_JSON1+str(port)+CONFIG_JSON2+id+CONFIG_JSON3)\n",
        "\n",
        "  if not findProcess('./v2ray','run'):\n",
        "    return Popen(\"./v2ray run\".split(), cwd='tools/v2raybin/', env={'V2RAY_VMESS_AEAD_FORCED':'false'})\n",
        "\n",
        "port=9910\n",
        "!pkill v2ray\n",
        "if not ID:\n",
        "  ID=str(uuid.uuid4())\n",
        "print(\"Setting up v2ray server ... \")\n",
        "v2ray(ID,port)\n",
        "print(\"Setting up tunnel ... \")\n",
        "\n",
        "!curl -s https://ngrok-agent.s3.amazonaws.com/ngrok.asc | sudo tee /etc/apt/trusted.gpg.d/ngrok.asc >/dev/null && echo \"deb https://ngrok-agent.s3.amazonaws.com buster main\" | sudo tee /etc/apt/sources.list.d/ngrok.list && sudo apt update && sudo apt install ngrok\n",
        "!mkdir '/root/.config/ngrok'\n",
        "with open('/root/.config/ngrok/ngrok.yml','w') as f:\n",
        " f.write('''authtoken: 1nrjUau4uq4HtqUJIcbGCUmvRVT_3dLq4GMbE3BPtwHh11pnS\n",
        "region: us\n",
        "update: false\n",
        "update_channel: stable\n",
        "web_addr: localhost:8098\n",
        "tunnels:\n",
        "   v2ray:\n",
        "     addr: 9910\n",
        "     proto: http\n",
        "     inspect: false\n",
        "''')\n",
        "\n",
        "\n",
        "!ngrok config upgrade\n",
        "!ngrok config check\n",
        "configPath='/root/.config/ngrok/ngrok.yml'\n",
        "'''\n",
        "subprocess.run(\n",
        "                    f\"ngrok start --config {configPath} --all &\",\n",
        "                    shell=False,\n",
        "                    stdout=subprocess.PIPE,\n",
        "                    stderr=subprocess.STDOUT,\n",
        "                    cwd=None,\n",
        "                ).stdout.decode(\"utf-8\").strip()\n",
        "'''\n",
        "Popen(f\"ngrok start --all --config {configPath} &\".split(), stdout=PIPE, stdin=PIPE, stderr=PIPE, shell=False)\n",
        "\n",
        "'''\n",
        "Server = PortForward_wrapper(\n",
        "    PORT_FORWARD, TOKEN, USE_FREE_TOKEN, [['v2ray', port, 'http']],\n",
        "    REGION.lower(), [f\"{HOME}/.ngrok2/V2ray.yml\", 8097]\n",
        ").start('v2ray', displayB=False)\n",
        "'''\n",
        "d=json.loads('{\"add\":\"{0}\",\"aid\":\"64\",\"host\":\"\",\"id\":\"{1}\",\"net\":\"ws\",\"path\":\"\",\"port\":\"80\",\"ps\":\"1\",\"tls\":\"\",\"type\":\"none\",\"v\":\"2\"}')\n",
        "d[\"add\"]=\"aaa\"#re.search(\"(?<=//).*?(/|$)\",Server[\"url\"]).group()\n",
        "d[\"id\"]=ID\n",
        "clear_output()\n",
        "# print(d)\n",
        "config=\"vmess://\"+base64.b64encode(json.dumps(d).encode()).decode(\"utf-8\")\n",
        "# print(config)\n",
        "imgfile = show_qr(config, v=False).decode()\n",
        "display(HTML(\"<center><img width='270px' height='270px'  src='data:image/png;base64,{}' /></center>\".format(imgfile)))\n",
        "html_text = '''<center><input type=\"hidden\" value=\"{}\" id=\"clipborad-text\">\n",
        "                <button onclick=\"copyToClipboard()\">Copy Config</button>\n",
        "                <script>\n",
        "                function copyToClipboard() {{\n",
        "                    var copyText = document.getElementById(\"clipborad-text\");\n",
        "                    copyText.select();\n",
        "                    navigator.clipboard.writeText(copyText.value);\n",
        "                    alert(\"Copied the text: \" + copyText.value);\n",
        "                }}\n",
        "                </script></center>'''.format(config)\n",
        "display(HTML(html_text))\n",
        "#time.sleep(7200)\n",
        "#while True: pass"
      ]
    },
    {
      "cell_type": "code",
      "source": [
        "\n",
        "!cat /root/.config/ngrok/ngrok.yml"
      ],
      "metadata": {
        "id": "8uL6YetNrI-6"
      },
      "execution_count": null,
      "outputs": []
    },
    {
      "cell_type": "code",
      "source": [
        "!ps aux"
      ],
      "metadata": {
        "id": "w3gMVcah1Wmd"
      },
      "execution_count": null,
      "outputs": []
    },
    {
      "cell_type": "code",
      "source": [
        "!ngrok config upgrade\n",
        "!ngrok config check"
      ],
      "metadata": {
        "id": "ELP55Lfxkt5f"
      },
      "execution_count": null,
      "outputs": []
    },
    {
      "cell_type": "code",
      "source": [
        "Popen(\"ngrok start v2ray\".split(), stdout=PIPE, stdin=PIPE, stderr=PIPE, universal_newlines=True)"
      ],
      "metadata": {
        "colab": {
          "base_uri": "https://localhost:8080/"
        },
        "id": "yLRjEjywma2C",
        "outputId": "4ece167d-da75-45ea-921e-1886c72731ee"
      },
      "execution_count": null,
      "outputs": [
        {
          "output_type": "execute_result",
          "data": {
            "text/plain": [
              "<Popen: returncode: None args: ['ngrok', 'start', 'v2ray']>"
            ]
          },
          "metadata": {},
          "execution_count": 2
        }
      ]
    },
    {
      "cell_type": "code",
      "source": [
        "!curl localhost:8098/api/tunnels"
      ],
      "metadata": {
        "id": "1-_BOWNOp5B_"
      },
      "execution_count": null,
      "outputs": []
    },
    {
      "cell_type": "code",
      "execution_count": null,
      "metadata": {
        "id": "ebvqsV53aiw9"
      },
      "outputs": [],
      "source": [
        "# @title cloudflare test\n",
        "from threading import Timer\n",
        "!wget https://github.com/cloudflare/cloudflared/releases/latest/download/cloudflared-linux-amd64\n",
        "!chmod +x cloudflared-linux-amd64\n",
        "# target task function\n",
        "def task(message):\n",
        "    # report the custom message\n",
        "    !./cloudflared-linux-amd64 tunnel --url localhost:8000\n",
        "    #!socat TCP4-LISTEN:34.30.64.213,fork TCP:http://localhost:8000\n",
        "\n",
        "# create a thread timer object\n",
        "timer = Timer(3, task,args=('Hello world',))\n",
        "# start the timer object\n",
        "timer.start()\n",
        "!python -m http.server"
      ]
    },
    {
      "cell_type": "code",
      "execution_count": null,
      "metadata": {
        "cellView": "form",
        "id": "H3P1U5xGjAgA"
      },
      "outputs": [],
      "source": [
        "# @title cloudflare install\n",
        "!sudo mkdir -p --mode=0755 /usr/share/keyrings\n",
        "!curl -fsSL https://pkg.cloudflare.com/cloudflare-main.gpg | sudo tee /usr/share/keyrings/cloudflare-main.gpg >/dev/null\n",
        "\n",
        "!echo 'deb [signed-by=/usr/share/keyrings/cloudflare-main.gpg] https://pkg.cloudflare.com/cloudflared bookworm main' | sudo tee /etc/apt/sources.list.d/cloudflared.list\n",
        "\n",
        "\n",
        "!sudo apt-get update && sudo apt-get install cloudflared"
      ]
    },
    {
      "cell_type": "code",
      "execution_count": null,
      "metadata": {
        "cellView": "form",
        "id": "6_sqnNuShhKb"
      },
      "outputs": [],
      "source": [
        "# @title colab\n",
        "!curl https://ipecho.net/plain\n",
        "print('\\n')\n",
        "from google.colab.output import eval_js\n",
        "url=eval_js(\"google.colab.kernel.proxyPort(9910)\")\n",
        "print(f'{url}\\n')\n",
        "!python -m http.server 9910"
      ]
    },
    {
      "cell_type": "code",
      "execution_count": null,
      "metadata": {
        "id": "n48FTDu90R3w"
      },
      "outputs": [],
      "source": [
        "!pip install pyngrok\n",
        "from pyngrok import ngrok, conf\n",
        "\n",
        "conf.get_default().auth_token = '1nrjUau4uq4HtqUJIcbGCUmvRVT_3dLq4GMbE3BPtwHh11pnS'\n",
        "\n",
        "url = ngrok.connect(\"8000\",\"tcp\").public_url\n",
        "print(url)\n",
        "!python -m http.server"
      ]
    }
  ],
  "metadata": {
    "colab": {
      "provenance": [],
      "authorship_tag": "ABX9TyMw98tOIfmvnL9r5/wROikL",
      "include_colab_link": true
    },
    "kernelspec": {
      "display_name": "Python 3",
      "name": "python3"
    },
    "language_info": {
      "name": "python"
    }
  },
  "nbformat": 4,
  "nbformat_minor": 0
}