{
  "cells": [
    {
      "cell_type": "markdown",
      "metadata": {
        "id": "view-in-github",
        "colab_type": "text"
      },
      "source": [
        "<a href=\"https://colab.research.google.com/github/epg900/Apex-Report-Printing/blob/master/PYPI.ipynb\" target=\"_parent\"><img src=\"https://colab.research.google.com/assets/colab-badge.svg\" alt=\"Open In Colab\"/></a>"
      ]
    },
    {
      "cell_type": "code",
      "execution_count": 1,
      "metadata": {
        "id": "p_CGKdtixZVd",
        "colab": {
          "base_uri": "https://localhost:8080/"
        },
        "outputId": "34c2abfa-cea9-4e4c-aed7-cff1ad95e59b"
      },
      "outputs": [
        {
          "output_type": "stream",
          "name": "stdout",
          "text": [
            "/content\n",
            "rm: cannot remove 'erscipcard/': No such file or directory\n"
          ]
        }
      ],
      "source": [
        "%cd /content\n",
        "!rm -r erscipcard/"
      ]
    },
    {
      "cell_type": "code",
      "execution_count": null,
      "metadata": {
        "id": "E7sH-wWsw6Rs"
      },
      "outputs": [],
      "source": [
        "!git clone https://github.com/epg900/erscipcard.git"
      ]
    },
    {
      "cell_type": "code",
      "execution_count": 3,
      "metadata": {
        "id": "EQVrU1WFxCll",
        "colab": {
          "base_uri": "https://localhost:8080/"
        },
        "outputId": "b97098af-7208-4e1b-daaf-21deb5bce526"
      },
      "outputs": [
        {
          "output_type": "stream",
          "name": "stdout",
          "text": [
            "/content/erscipcard\n"
          ]
        }
      ],
      "source": [
        "%cd erscipcard/"
      ]
    },
    {
      "cell_type": "code",
      "execution_count": null,
      "metadata": {
        "id": "MFCbml3_xKi1"
      },
      "outputs": [],
      "source": [
        "!python setup.py sdist"
      ]
    },
    {
      "cell_type": "code",
      "execution_count": null,
      "metadata": {
        "id": "AKfKdYcPyPz1"
      },
      "outputs": [],
      "source": [
        "!pip install twine\n",
        "!pip install -U twine"
      ]
    },
    {
      "cell_type": "code",
      "execution_count": null,
      "metadata": {
        "id": "YevYRpf0yfzt"
      },
      "outputs": [],
      "source": [
        "!twine upload dist/erscipcard-1.52.tar.gz"
      ]
    }
  ],
  "metadata": {
    "colab": {
      "provenance": [],
      "authorship_tag": "ABX9TyMBWOqe+lAstF3plsklBgBV",
      "include_colab_link": true
    },
    "kernelspec": {
      "display_name": "Python 3",
      "name": "python3"
    },
    "language_info": {
      "name": "python"
    }
  },
  "nbformat": 4,
  "nbformat_minor": 0
}